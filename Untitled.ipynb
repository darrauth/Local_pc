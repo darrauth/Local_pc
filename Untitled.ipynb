{
 "cells": [
  {
   "cell_type": "code",
   "execution_count": 6,
   "id": "be11bfd9",
   "metadata": {},
   "outputs": [
    {
     "name": "stdout",
     "output_type": "stream",
     "text": [
      " el tamaño de front es de 3 el tamaño de center es 3 ,y el tamaño de back es de 6 ; entonces, el tamaño de counter es: 54\n"
     ]
    }
   ],
   "source": [
    "front = [1,2,3]\n",
    "back = [4,5,6,7,8,9]\n",
    "center = [2,3,4]\n",
    "counter = []\n",
    "for f in front:\n",
    "    for b in back:\n",
    "        for c in center:\n",
    "            counter.append(f+b+c)\n",
    "        \n",
    "print(\" el tamaño de front es de\" , str(len(front)) , \"el tamaño de center es\", str(len(center)), \",y el tamaño de back es de\", str(len(back)), \"; entonces, el tamaño de counter es:\", str(len(counter)))"
   ]
  }
 ],
 "metadata": {
  "kernelspec": {
   "display_name": "Python 3",
   "language": "python",
   "name": "python3"
  },
  "language_info": {
   "codemirror_mode": {
    "name": "ipython",
    "version": 3
   },
   "file_extension": ".py",
   "mimetype": "text/x-python",
   "name": "python",
   "nbconvert_exporter": "python",
   "pygments_lexer": "ipython3",
   "version": "3.8.8"
  }
 },
 "nbformat": 4,
 "nbformat_minor": 5
}
