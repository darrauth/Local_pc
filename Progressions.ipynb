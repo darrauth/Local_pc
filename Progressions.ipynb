{
 "cells": [
  {
   "cell_type": "code",
   "execution_count": 2,
   "id": "71c49e19",
   "metadata": {},
   "outputs": [
    {
     "name": "stdout",
     "output_type": "stream",
     "text": [
      "-1679\n",
      "175\n",
      "2875\n",
      "152\n",
      "41.0\n"
     ]
    }
   ],
   "source": [
    "def suma_sucesion_aritmetica_uno(a,b,n):\n",
    "    S = n*(2*a+(b*(n-1)))/2\n",
    "    return round(S)\n",
    "\n",
    "\n",
    "def suma_sucesion_aritmetica_dos(a,n,l):\n",
    "    r = (n*(a+l))/2\n",
    "    return round(r)\n",
    "\n",
    "ex_a = suma_sucesion_aritmetica_uno(4, -7, 23)\n",
    "\n",
    "ex_bi = suma_sucesion_aritmetica_uno(4, 1/2, 20)\n",
    "\n",
    "ex_bii = suma_sucesion_aritmetica_uno(4, 1/2, 100)\n",
    "\n",
    "ex_c = suma_sucesion_aritmetica_dos(1,3,100)\n",
    "\n",
    "ex_d = (22*(42) - 20*(38))/4\n",
    "\n",
    "Respuestas = [ex_a, ex_bi, ex_bii, ex_c, ex_d]\n",
    "for x in Respuestas: \n",
    "    print(x)\n"
   ]
  }
 ],
 "metadata": {
  "kernelspec": {
   "display_name": "Python 3",
   "language": "python",
   "name": "python3"
  },
  "language_info": {
   "codemirror_mode": {
    "name": "ipython",
    "version": 3
   },
   "file_extension": ".py",
   "mimetype": "text/x-python",
   "name": "python",
   "nbconvert_exporter": "python",
   "pygments_lexer": "ipython3",
   "version": "3.8.8"
  }
 },
 "nbformat": 4,
 "nbformat_minor": 5
}
