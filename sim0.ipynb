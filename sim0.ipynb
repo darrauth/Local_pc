{
 "cells": [
  {
   "cell_type": "code",
   "execution_count": null,
   "id": "dbc93cf2",
   "metadata": {},
   "outputs": [],
   "source": [
    "# Import libraries\n",
    "import matplotlib.pyplot as plt\n",
    "import numpy as np\n",
    "import math"
   ]
  },
  {
   "cell_type": "code",
   "execution_count": 1,
   "id": "3c6a544d",
   "metadata": {},
   "outputs": [
    {
     "data": {
      "text/plain": [
       "'La tasa de rentabilidad es de 50% para una inversión de 5000 dólares y un retorno de 7500 dólares.'"
      ]
     },
     "execution_count": 1,
     "metadata": {},
     "output_type": "execute_result"
    }
   ],
   "source": [
    "def tasa_rentabilidad(inversion, ingreso_esperado):\n",
    "    rentabilidad = int(100*((ingreso_esperado - inversion)/inversion))\n",
    "    return (\"La tasa de rentabilidad es de \" + str(rentabilidad) + \"% para una inversión de \" + str(inversion) \n",
    "            + \" dólares y un retorno de \" + str(7500) + \" dólares.\") \n",
    "\n",
    "tasa_rentabilidad(5000, 7500)"
   ]
  },
  {
   "cell_type": "code",
   "execution_count": null,
   "id": "d53eb09f",
   "metadata": {},
   "outputs": [],
   "source": [
    "def ValorFuturo_simulacion(vp):\n",
    "    t = np.linspace(0, 30, 21)\n",
    "    for i in [0, 0.05, 0.1, 0.15]:\n",
    "        plt.plot(t, (vp*(1+i)**t), label = \"r = \" + str(int(i*100)) + str(\"%\"))\n",
    "    plt.title(\"Crecimiento del valor futuro dadas diferentes tasas de interés\")\n",
    "    plt.xlabel(\"Años\")\n",
    "    plt.ylabel(\"Valor futuro\")\n",
    "    plt.legend()\n",
    "\n",
    "ValorFuturo_simulacion(200)\n",
    "\n"
   ]
  },
  {
   "cell_type": "code",
   "execution_count": null,
   "id": "4415a39a",
   "metadata": {},
   "outputs": [],
   "source": [
    "def ValorPresente_simulacion(vf):\n",
    "    \n",
    "    t = np.linspace(0, 30, 21)\n",
    "    for i in [0, 0.05, 0.1, 0.15]:\n",
    "        plt.plot(t, (vf/((1+i)**t)), label = \"r = \" + str(int(i*100)) + str(\"%\"))\n",
    "    plt.title(\"Decaimiento del valor presente dadas diferentes tasas de interés\")\n",
    "    plt.xlabel(\"Años\")\n",
    "    plt.ylabel(\"Valor presente\")\n",
    "    plt.legend()\n",
    "\n",
    "ValorPresente_simulacion(100)"
   ]
  },
  {
   "cell_type": "code",
   "execution_count": null,
   "id": "11bfd4ed",
   "metadata": {},
   "outputs": [],
   "source": [
    "def tiempo_de_crecimiento(c):\n",
    "    c_2 = np.array([math.log(i,10) for i in c])\n",
    "    for i in [0.05, 0.07, 0.1, 0.15]:\n",
    "        plt.plot(c, c_2/math.log(1+i,10), label = \"r = \" + str(int(i*100)) + str(\"%\"))\n",
    "    plt.title(\"Años necesarios para que el valor futuro supere por n veces el valor presente \")\n",
    "    plt.xlabel(\"Magnitud\")\n",
    "    plt.ylabel(\"Años\")\n",
    "    plt.legend()\n",
    "\n",
    "tiempo_de_crecimiento([2,3,4,5,6,7])"
   ]
  }
 ],
 "metadata": {
  "kernelspec": {
   "display_name": "Python 3",
   "language": "python",
   "name": "python3"
  },
  "language_info": {
   "codemirror_mode": {
    "name": "ipython",
    "version": 3
   },
   "file_extension": ".py",
   "mimetype": "text/x-python",
   "name": "python",
   "nbconvert_exporter": "python",
   "pygments_lexer": "ipython3",
   "version": "3.8.8"
  }
 },
 "nbformat": 4,
 "nbformat_minor": 5
}
